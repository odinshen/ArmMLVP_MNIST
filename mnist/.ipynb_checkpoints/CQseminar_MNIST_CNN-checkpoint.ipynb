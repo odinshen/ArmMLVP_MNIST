{
 "cells": [
  {
   "cell_type": "code",
   "execution_count": 6,
   "metadata": {},
   "outputs": [
    {
     "name": "stdout",
     "output_type": "stream",
     "text": [
      "x_train shape: (60000, 28, 28, 1)\n",
      "60000 train samples\n",
      "10000 test samples\n",
      "Train on 60000 samples, validate on 10000 samples\n",
      "Epoch 1/1\n",
      "60000/60000 [==============================] - 59s - loss: 0.3985 - acc: 0.8730 - val_loss: 0.0700 - val_acc: 0.9765\n",
      "Test loss: 0.0700407062078\n",
      "Test accuracy: 0.9765\n"
     ]
    }
   ],
   "source": [
    "# -*- coding: utf-8 -*-\n",
    "#\n",
    "# Based on Keras MNIST CNN example (François Chollet)\n",
    "# https://github.com/fchollet/keras/blob/master/examples/mnist_cnn.py\n",
    "# LICENSE : The MIT License (MIT)\n",
    "#\n",
    "from __future__ import print_function\n",
    "import numpy as np\n",
    "np.set_printoptions(threshold=np.nan) \n",
    "np.random.seed(20170712)              \n",
    "import keras\n",
    "from keras.datasets import mnist\n",
    "from keras.models import Sequential\n",
    "from keras.layers.core import Dense, Dropout, Flatten\n",
    "from keras.layers import Conv2D, MaxPooling2D\n",
    "from keras import backend as K\n",
    "\n",
    "batch_size = 128 \n",
    "num_classes = 10 \n",
    "epochs = 1       \n",
    "\n",
    "img_rows, img_cols = 28, 28\n",
    "\n",
    "(x_train, y_train), (x_test, y_test) = mnist.load_data()\n",
    "\n",
    "if K.image_data_format() == 'channels_first':\n",
    "    x_train = x_train.reshape(x_train.shape[0], 1, img_rows, img_cols)\n",
    "    x_test = x_test.reshape(x_test.shape[0], 1, img_rows, img_cols)\n",
    "    input_shape = (1, img_rows, img_cols)\n",
    "else:\n",
    "    x_train = x_train.reshape(x_train.shape[0], img_rows, img_cols, 1)\n",
    "    x_test = x_test.reshape(x_test.shape[0], img_rows, img_cols, 1)\n",
    "    input_shape = (img_rows, img_cols, 1)\n",
    "\n",
    "x_train = x_train.astype('float32')\n",
    "x_test = x_test.astype('float32')\n",
    "x_train /= 255\n",
    "x_test /= 255\n",
    "print('x_train shape:', x_train.shape)\n",
    "print(x_train.shape[0], 'train samples')\n",
    "print(x_test.shape[0], 'test samples')\n",
    "\n",
    "y_train = keras.utils.to_categorical(y_train, num_classes)\n",
    "y_test = keras.utils.to_categorical(y_test, num_classes)\n",
    "\n",
    "model = Sequential()\n",
    "model.add(Conv2D(16, kernel_size=(5, 5),\n",
    "                 activation='relu',\n",
    "                 input_shape=input_shape))          \n",
    "model.add(MaxPooling2D(pool_size=(2, 2)))           \n",
    "model.add(Conv2D(32, (5, 5), activation='relu'))    \n",
    "model.add(MaxPooling2D(pool_size=(2, 2)))           \n",
    "model.add(Dropout(0.25))                            \n",
    "model.add(Flatten())                                \n",
    "model.add(Dense(128, activation='relu'))            \n",
    "model.add(Dropout(0.5))                             \n",
    "model.add(Dense(num_classes, activation='softmax')) \n",
    "\n",
    "model.compile(loss=keras.losses.categorical_crossentropy,\n",
    "              optimizer=keras.optimizers.Adam(),\n",
    "              #optimizer=keras.optimizers.Adadelta(),\n",
    "              metrics=['accuracy'])\n",
    "\n",
    "model.fit(x_train, y_train,                 \n",
    "          batch_size=batch_size,            \n",
    "          epochs=epochs,                    \n",
    "          verbose=1,                        \n",
    "          validation_data=(x_test, y_test)) \n",
    "\n",
    "score = model.evaluate(x_test, y_test, verbose=0)\n",
    "print('Test loss:', score[0])\n",
    "print('Test accuracy:', score[1])"
   ]
  },
  {
   "cell_type": "code",
   "execution_count": 7,
   "metadata": {},
   "outputs": [
    {
     "data": {
      "image/png": "[encoded data removed]",
      "text/plain": [
       "<matplotlib.figure.Figure at 0x25e3cbcd080>"
      ]
     },
     "metadata": {},
     "output_type": "display_data"
    }
   ],
   "source": [
    "import matplotlib.pyplot as plt\n",
    "\n",
    "images = x_test.reshape(10000, 28, 28)\n",
    "\n",
    "plotpos = 1\n",
    "for idx in range(10):\n",
    "    plt.subplot(5, 10, plotpos)\n",
    "    plt.imshow(images[idx])\n",
    "    plt.gray()\n",
    "    plt.axis('off')\n",
    "    plotpos += 1\n",
    "plt.show()"
   ]
  },
  {
   "cell_type": "code",
   "execution_count": 8,
   "metadata": {},
   "outputs": [
    {
     "data": {
      "image/png": "[encoded data removed]",
      "text/plain": [
       "<matplotlib.figure.Figure at 0x25e3cbbbd68>"
      ]
     },
     "metadata": {},
     "output_type": "display_data"
    },
    {
     "name": "stdout",
     "output_type": "stream",
     "text": [
      "[ 0.  0.  0.  0.  0.  1.  0.  0.  0.  0.]\n"
     ]
    }
   ],
   "source": [
    "idx = 8\n",
    "\n",
    "plt.imshow(images[idx])\n",
    "plt.gray()\n",
    "plt.show()\n",
    "\n",
    "print(y_test[idx])"
   ]
  },
  {
   "cell_type": "code",
   "execution_count": 9,
   "metadata": {},
   "outputs": [
    {
     "name": "stdout",
     "output_type": "stream",
     "text": [
      "_________________________________________________________________\n",
      "Layer (type)                 Output Shape              Param #   \n",
      "=================================================================\n",
      "conv2d_3 (Conv2D)            (None, 24, 24, 16)        416       \n",
      "_________________________________________________________________\n",
      "max_pooling2d_3 (MaxPooling2 (None, 12, 12, 16)        0         \n",
      "_________________________________________________________________\n",
      "conv2d_4 (Conv2D)            (None, 8, 8, 32)          12832     \n",
      "_________________________________________________________________\n",
      "max_pooling2d_4 (MaxPooling2 (None, 4, 4, 32)          0         \n",
      "_________________________________________________________________\n",
      "dropout_3 (Dropout)          (None, 4, 4, 32)          0         \n",
      "_________________________________________________________________\n",
      "flatten_2 (Flatten)          (None, 512)               0         \n",
      "_________________________________________________________________\n",
      "dense_3 (Dense)              (None, 128)               65664     \n",
      "_________________________________________________________________\n",
      "dropout_4 (Dropout)          (None, 128)               0         \n",
      "_________________________________________________________________\n",
      "dense_4 (Dense)              (None, 10)                1290      \n",
      "=================================================================\n",
      "Total params: 80,202\n",
      "Trainable params: 80,202\n",
      "Non-trainable params: 0\n",
      "_________________________________________________________________\n"
     ]
    }
   ],
   "source": [
    "model.summary()"
   ]
  },
  {
   "cell_type": "code",
   "execution_count": null,
   "metadata": {},
   "outputs": [
    {
     "name": "stdout",
     "output_type": "stream",
     "text": [
      "save model as HDF5\n"
     ]
    }
   ],
   "source": [
    "print(\"save model as HDF5\")\n",
    "model.save('./mnist_cnn_train1.h5')"
   ]
  },
  {
   "cell_type": "code",
   "execution_count": null,
   "metadata": {},
   "outputs": [
    {
     "name": "stdout",
     "output_type": "stream",
     "text": [
      "Train on 60000 samples, validate on 10000 samples\n",
      "Epoch 1/20\n",
      "36096/60000 [=================>............] - ETA: 25s - loss: 0.1329 - acc: 0.9600"
     ]
    }
   ],
   "source": [
    "from keras.models import load_model\n",
    "\n",
    "model2 = load_model('./mnist_cnn_train1.h5')\n",
    "\n",
    "history2 = model2.fit(x_train, y_train,\n",
    "                      batch_size=batch_size,\n",
    "                      epochs=20,             \n",
    "                      verbose=1,\n",
    "                      validation_data=(x_test, y_test))"
   ]
  },
  {
   "cell_type": "code",
   "execution_count": null,
   "metadata": {},
   "outputs": [],
   "source": [
    "loss = history2.history['loss']\n",
    "val_loss = history2.history['val_loss']\n",
    "epoch = len(loss)\n",
    "plt.plot(range(epoch), loss, marker='.', label='training loss')\n",
    "plt.plot(range(epoch), val_loss, marker='.', label='validation loss')\n",
    "plt.legend(loc='best', fontsize=10)\n",
    "plt.grid()\n",
    "plt.xlabel('epoch')\n",
    "plt.ylabel('loss')\n",
    "plt.show()"
   ]
  },
  {
   "cell_type": "code",
   "execution_count": null,
   "metadata": {},
   "outputs": [],
   "source": [
    "print(\"save model as HDF5\")\n",
    "model2.save('mnist_cnn_train1_fine20.h5')\n",
    "\n",
    "print(\"done\")"
   ]
  },
  {
   "cell_type": "code",
   "execution_count": null,
   "metadata": {},
   "outputs": [],
   "source": [
    "for layer in model2.layers:\n",
    "    lay_config = layer.get_config()\n",
    "    lay_weights = layer.get_weights()\n",
    "    print('*** layer config ***')\n",
    "    print(lay_config)\n",
    "    print('*** layer weights ***')\n",
    "    print(lay_weights)"
   ]
  },
  {
   "cell_type": "code",
   "execution_count": null,
   "metadata": {},
   "outputs": [],
   "source": [
    "layidx = 0\n",
    "params_list = model2.layers[0].get_weights()\n",
    "weights_array = params_list[0]\n",
    "biases_array = params_list[1]\n",
    "\n",
    "images = weights_array.reshape(1, 16, 5, 5)\n",
    "\n",
    "plotpos = 1\n",
    "for idx in range(16):\n",
    "    plt.subplot(1, 16, plotpos)\n",
    "    plt.imshow(images[0][idx])\n",
    "    plt.gray()\n",
    "    plt.axis('off')\n",
    "    plotpos += 1\n",
    "plt.show()"
   ]
  },
  {
   "cell_type": "code",
   "execution_count": null,
   "metadata": {},
   "outputs": [],
   "source": [
    "layidx = 2\n",
    "params_list = model2.layers[layidx].get_weights()\n",
    "weights_array = params_list[0]\n",
    "\n",
    "images = weights_array.reshape(16, 32, 5, 5)\n",
    "\n",
    "plotpos = 1\n",
    "for idx1 in range(16):\n",
    "    for idx2 in range(32):\n",
    "        plt.subplot(16, 32, plotpos)\n",
    "        plt.imshow(images[idx1][idx2])\n",
    "        plt.gray()\n",
    "        plt.axis('off')\n",
    "        plotpos += 1\n",
    "plt.show()"
   ]
  },
  {
   "cell_type": "code",
   "execution_count": null,
   "metadata": {},
   "outputs": [],
   "source": [
    "layidx = 6\n",
    "params_list = model2.layers[layidx].get_weights()\n",
    "weights_array = params_list[0]\n",
    "biases_array = params_list[1]\n",
    "\n",
    "image = weights_array.reshape(128, 512)\n",
    "\n",
    "plt.imshow(image)\n",
    "plt.gray()\n",
    "plt.axis('off')\n",
    "plt.show()"
   ]
  },
  {
   "cell_type": "code",
   "execution_count": null,
   "metadata": {},
   "outputs": [],
   "source": [
    "layidx = 8\n",
    "params_list = model2.layers[layidx].get_weights()\n",
    "weights_array = params_list[0]\n",
    "biases_array = params_list[1]\n",
    "\n",
    "image = weights_array.reshape(10, 128)\n",
    "\n",
    "plt.imshow(image)\n",
    "plt.gray()\n",
    "plt.axis('off')\n",
    "plt.show()"
   ]
  },
  {
   "cell_type": "code",
   "execution_count": null,
   "metadata": {},
   "outputs": [],
   "source": [
    "model3 = load_model('./mnist_cnn_train1_fine20.h5')\n",
    "\n",
    "history3 = model3.fit(x_train, y_train,\n",
    "                      batch_size=batch_size,\n",
    "                      epochs=100,              \n",
    "                      verbose=1,\n",
    "                      validation_data=(x_test, y_test))"
   ]
  },
  {
   "cell_type": "code",
   "execution_count": null,
   "metadata": {},
   "outputs": [],
   "source": [
    "loss = history3.history['loss']\n",
    "val_loss = history3.history['val_loss']\n",
    "epoch = len(loss)\n",
    "plt.plot(range(epoch), loss, marker='.', label='training loss')\n",
    "plt.plot(range(epoch), val_loss, marker='.', label='validation loss')\n",
    "plt.legend(loc='best', fontsize=10)\n",
    "plt.grid()\n",
    "plt.xlabel('epoch')\n",
    "plt.ylabel('loss')\n",
    "plt.show()"
   ]
  },
  {
   "cell_type": "code",
   "execution_count": null,
   "metadata": {},
   "outputs": [],
   "source": [
    "print(\"save model as HDF5\")\n",
    "model3.save('./mnist_cnn_train1_fine20_fine100.h5')\n",
    "\n",
    "print(\"done\")"
   ]
  },
  {
   "cell_type": "code",
   "execution_count": null,
   "metadata": {},
   "outputs": [],
   "source": [
    "for layer in model3.layers:\n",
    "    lay_config = layer.get_config()\n",
    "    lay_weights = layer.get_weights()\n",
    "    print('*** layer config ***')\n",
    "    print(lay_config)\n",
    "    print('*** layer params ***')\n",
    "    print(lay_weights)"
   ]
  },
  {
   "cell_type": "code",
   "execution_count": null,
   "metadata": {},
   "outputs": [],
   "source": [
    "import codecs, json\n",
    "\n",
    "print(\"output weights as JSON\")\n",
    "\n",
    "filename = \"mnist_cnn_train121_params_layer%d.json\"\n",
    "\n",
    "layidx = 0\n",
    "params_list = model3.layers[layidx].get_weights()\n",
    "weights_array = params_list[0]\n",
    "biases_array = params_list[1]\n",
    "dict = {}\n",
    "dict['weights'] = weights_array.tolist()\n",
    "dict['biases'] = biases_array.tolist()\n",
    "file_path = filename % layidx\n",
    "json.dump(dict,\n",
    "          codecs.open(file_path, 'w', encoding='utf-8'),\n",
    "          separators=(',', ':'),\n",
    "          sort_keys=False,\n",
    "          indent=4)\n",
    "\n",
    "layidx = 1\n",
    "\n",
    "layidx = 2\n",
    "params_list = model3.layers[layidx].get_weights()\n",
    "weights_array = params_list[0]\n",
    "biases_array = params_list[1]\n",
    "dict = {}\n",
    "dict['weights'] = weights_array.tolist()\n",
    "dict['biases'] = biases_array.tolist()\n",
    "file_path = filename % layidx\n",
    "json.dump(dict,\n",
    "          codecs.open(file_path, 'w', encoding='utf-8'),\n",
    "          separators=(',', ':'),\n",
    "          sort_keys=False,\n",
    "          indent=4)\n",
    "\n",
    "layidx = 3\n",
    "\n",
    "layidx = 4\n",
    "\n",
    "layidx = 5\n",
    "\n",
    "layidx = 6\n",
    "params_list = model3.layers[layidx].get_weights()\n",
    "weights_array = params_list[0]\n",
    "biases_array = params_list[1]\n",
    "dict = {}\n",
    "dict['weights'] = weights_array.tolist()\n",
    "dict['biases'] = biases_array.tolist()\n",
    "file_path = filename % layidx\n",
    "json.dump(dict,\n",
    "          codecs.open(file_path, 'w', encoding='utf-8'),\n",
    "          separators=(',', ':'),\n",
    "          sort_keys=False,\n",
    "          indent=4)\n",
    "\n",
    "layidx = 7\n",
    "\n",
    "layidx = 8\n",
    "params_list = model3.layers[layidx].get_weights()\n",
    "weights_array = params_list[0]\n",
    "biases_array = params_list[1]\n",
    "dict = {}\n",
    "dict['weights'] = weights_array.tolist()\n",
    "dict['biases'] = biases_array.tolist()\n",
    "file_path = filename % layidx\n",
    "json.dump(dict,\n",
    "          codecs.open(file_path, 'w', encoding='utf-8'),\n",
    "          separators=(',', ':'),\n",
    "          sort_keys=False,\n",
    "          indent=4)\n",
    "\n",
    "print(\"done\")"
   ]
  },
  {
   "cell_type": "code",
   "execution_count": null,
   "metadata": {},
   "outputs": [],
   "source": [
    "images = x_test.reshape(10000, 28, 28)\n",
    "\n",
    "idx = 0\n",
    "\n",
    "plt.imshow(images[idx])\n",
    "plt.gray()\n",
    "plt.show()\n",
    "\n",
    "print('const float test_data[784] = {')\n",
    "for n in range(10):\n",
    "    print('%f,' % y_test[idx][n])\n",
    "print('};\\n')\n",
    "\n",
    "print('const float test_data[784] = {')\n",
    "for row in range(28):\n",
    "    for col in range(28):\n",
    "        print('%f,' % images[idx][row][col])\n",
    "print('};')\n"
   ]
  },
  {
   "cell_type": "code",
   "execution_count": null,
   "metadata": {
    "collapsed": true
   },
   "outputs": [],
   "source": []
  }
 ],
 "metadata": {
  "kernelspec": {
   "display_name": "Python 3",
   "language": "python",
   "name": "python3"
  },
  "language_info": {
   "codemirror_mode": {
    "name": "ipython",
    "version": 3
   },
   "file_extension": ".py",
   "mimetype": "text/x-python",
   "name": "python",
   "nbconvert_exporter": "python",
   "pygments_lexer": "ipython3",
   "version": "3.6.2"
  }
 },
 "nbformat": 4,
 "nbformat_minor": 2
}
